{
 "cells": [
  {
   "cell_type": "code",
   "execution_count": 1,
   "id": "6af905ac-5abe-449b-b19e-66193b6f3304",
   "metadata": {
    "scrolled": true,
    "tags": []
   },
   "outputs": [
    {
     "name": "stderr",
     "output_type": "stream",
     "text": [
      "C:\\Users\\jmvdp\\anaconda3\\Lib\\site-packages\\holidays\\__init__.py:32: FutureIncompatibilityWarning: \n",
      "\n",
      "This is a future version incompatibility warning from Python Holidays library v0.52\n",
      "to inform you about an upcoming change in our API versioning strategy that may affect your\n",
      "project's dependencies. Starting from version 1.0 onwards, we will be following a loose form of\n",
      "Semantic Versioning (SemVer, https://semver.org) to provide clearer communication regarding any\n",
      "potential breaking changes.\n",
      "\n",
      "This means that while we strive to maintain backward compatibility, there might be occasional\n",
      "updates that introduce breaking changes to our API. To ensure the stability of your projects,\n",
      "we highly recommend pinning the version of our API that you rely on. You can pin your current\n",
      "holidays v0.x dependency (e.g., holidays==0.52) or limit it (e.g., holidays<1.0) in order to\n",
      "avoid potentially unwanted upgrade to the version 1.0 when it's released (ETA 2024Q4 - 2025Q1).\n",
      "\n",
      "If you have any questions or concerns regarding this change, please don't hesitate to reach out\n",
      "to us via https://github.com/vacanza/python-holidays/discussions/1800.\n",
      "\n",
      "  warnings.warn(\n"
     ]
    }
   ],
   "source": [
    "import dask.dataframe as dd\n",
    "import pandas as pd\n",
    "from mlxtend.frequent_patterns import fpgrowth, association_rules\n",
    "import holidays\n",
    "from pathlib import Path"
   ]
  },
  {
   "cell_type": "code",
   "execution_count": 2,
   "id": "f2014435",
   "metadata": {
    "tags": []
   },
   "outputs": [
    {
     "data": {
      "text/html": [
       "<div>\n",
       "<style scoped>\n",
       "    .dataframe tbody tr th:only-of-type {\n",
       "        vertical-align: middle;\n",
       "    }\n",
       "\n",
       "    .dataframe tbody tr th {\n",
       "        vertical-align: top;\n",
       "    }\n",
       "\n",
       "    .dataframe thead th {\n",
       "        text-align: right;\n",
       "    }\n",
       "</style>\n",
       "<table border=\"1\" class=\"dataframe\">\n",
       "  <thead>\n",
       "    <tr style=\"text-align: right;\">\n",
       "      <th></th>\n",
       "      <th>dt_registo</th>\n",
       "      <th>area</th>\n",
       "      <th>tipo</th>\n",
       "      <th>Subseccao</th>\n",
       "      <th>Freguesia</th>\n",
       "      <th>Longitude_Subseccao</th>\n",
       "      <th>Latitude_Subseccao</th>\n",
       "      <th>month</th>\n",
       "      <th>year</th>\n",
       "    </tr>\n",
       "  </thead>\n",
       "  <tbody>\n",
       "    <tr>\n",
       "      <th>0</th>\n",
       "      <td>2018-01-01</td>\n",
       "      <td>Iluminação Pública</td>\n",
       "      <td>Candeeiro apagado</td>\n",
       "      <td>11066202005</td>\n",
       "      <td>Parque das Nações</td>\n",
       "      <td>-9.092716</td>\n",
       "      <td>38.779538</td>\n",
       "      <td>1</td>\n",
       "      <td>2018</td>\n",
       "    </tr>\n",
       "    <tr>\n",
       "      <th>1</th>\n",
       "      <td>2018-01-01</td>\n",
       "      <td>Árvores e Espaços Verdes</td>\n",
       "      <td>Árvores, arbustos ou relva - Manutenção</td>\n",
       "      <td>11061802202</td>\n",
       "      <td>Lumiar</td>\n",
       "      <td>-9.157347</td>\n",
       "      <td>38.772386</td>\n",
       "      <td>1</td>\n",
       "      <td>2018</td>\n",
       "    </tr>\n",
       "  </tbody>\n",
       "</table>\n",
       "</div>"
      ],
      "text/plain": [
       "   dt_registo                      area  \\\n",
       "0  2018-01-01        Iluminação Pública   \n",
       "1  2018-01-01  Árvores e Espaços Verdes   \n",
       "\n",
       "                                      tipo    Subseccao          Freguesia  \\\n",
       "0                        Candeeiro apagado  11066202005  Parque das Nações   \n",
       "1  Árvores, arbustos ou relva - Manutenção  11061802202             Lumiar   \n",
       "\n",
       "   Longitude_Subseccao  Latitude_Subseccao  month  year  \n",
       "0            -9.092716           38.779538      1  2018  \n",
       "1            -9.157347           38.772386      1  2018  "
      ]
     },
     "execution_count": 2,
     "metadata": {},
     "output_type": "execute_result"
    }
   ],
   "source": [
    "#Import original dataset\n",
    "base_dir = Path.home()\n",
    "manipulated_data_directory = base_dir / \"NaMinhaRua\" / \"Ficheiros de dados Manipulados\"\n",
    "gopidataset = pd.read_csv(manipulated_data_directory/'combined_sorted_ym.gopi_data.csv')\n",
    "gopidataset.head(2)"
   ]
  },
  {
   "cell_type": "code",
   "execution_count": 3,
   "id": "971ce445",
   "metadata": {
    "tags": []
   },
   "outputs": [],
   "source": [
    "#Create a new base model\n",
    "gopidatasetmodel=gopidataset[['dt_registo', 'Subseccao', 'Freguesia', 'tipo']]\n",
    "gopidatasetmodel.head(2)\n",
    "\n",
    "gopidatasetmodel.to_csv(manipulated_data_directory/ 'gopidatasetmodel1.csv',sep=',', index=False)"
   ]
  },
  {
   "cell_type": "code",
   "execution_count": 4,
   "id": "b5cf0d86",
   "metadata": {
    "tags": []
   },
   "outputs": [
    {
     "data": {
      "text/html": [
       "<div>\n",
       "<style scoped>\n",
       "    .dataframe tbody tr th:only-of-type {\n",
       "        vertical-align: middle;\n",
       "    }\n",
       "\n",
       "    .dataframe tbody tr th {\n",
       "        vertical-align: top;\n",
       "    }\n",
       "\n",
       "    .dataframe thead th {\n",
       "        text-align: right;\n",
       "    }\n",
       "</style>\n",
       "<table border=\"1\" class=\"dataframe\">\n",
       "  <thead>\n",
       "    <tr style=\"text-align: right;\">\n",
       "      <th></th>\n",
       "      <th>dt_registo</th>\n",
       "      <th>Subseccao</th>\n",
       "      <th>Freguesia</th>\n",
       "      <th>tipo</th>\n",
       "    </tr>\n",
       "  </thead>\n",
       "  <tbody>\n",
       "    <tr>\n",
       "      <th>0</th>\n",
       "      <td>2018-01-01</td>\n",
       "      <td>11066202005</td>\n",
       "      <td>Parque das Nações</td>\n",
       "      <td>Candeeiro apagado</td>\n",
       "    </tr>\n",
       "    <tr>\n",
       "      <th>1</th>\n",
       "      <td>2018-01-01</td>\n",
       "      <td>11061802202</td>\n",
       "      <td>Lumiar</td>\n",
       "      <td>Árvores, arbustos ou relva - Manutenção</td>\n",
       "    </tr>\n",
       "  </tbody>\n",
       "</table>\n",
       "</div>"
      ],
      "text/plain": [
       "   dt_registo    Subseccao          Freguesia  \\\n",
       "0  2018-01-01  11066202005  Parque das Nações   \n",
       "1  2018-01-01  11061802202             Lumiar   \n",
       "\n",
       "                                      tipo  \n",
       "0                        Candeeiro apagado  \n",
       "1  Árvores, arbustos ou relva - Manutenção  "
      ]
     },
     "execution_count": 4,
     "metadata": {},
     "output_type": "execute_result"
    }
   ],
   "source": [
    "#################################################Manipulação do novo modelo de dados#######################################\n",
    "gopidatasetbasemodel1 = pd.read_csv(manipulated_data_directory/ 'gopidatasetmodel1.csv')\n",
    "gopidatasetbasemodel1.head(2)"
   ]
  },
  {
   "cell_type": "code",
   "execution_count": 5,
   "id": "967d2b25",
   "metadata": {
    "tags": []
   },
   "outputs": [
    {
     "name": "stdout",
     "output_type": "stream",
     "text": [
      "tipo\n",
      "Remoção-Monstros-Pedido de recolha                                                         33.394310\n",
      "Entulhos, objetos volumosos, resíduos de jardim ou perigosos abandonados na via pública    12.838728\n",
      "Remoção-Jardins-Pedido de recolha                                                           2.758658\n",
      "Candeeiro apagado                                                                           2.744318\n",
      "Pragas e doenças                                                                            2.729849\n",
      "Reclamações no âmbito da recolha diária de resíduos sólidos urbanos                         2.383758\n",
      "Grafitis                                                                                    2.210260\n",
      "Limpeza da via pública (Despejo de papeleira, varredura e lavagem da via pública)           2.065570\n",
      "Árvores, arbustos ou relva - Manutenção                                                     1.805129\n",
      "Remoção Seletivas - Remoção pontual de papel/cartão                                         1.631890\n",
      "Contentores de resíduos danificados                                                         1.599076\n",
      "Sacos ou outros lixos abandonados                                                           1.492626\n",
      "Descalcetamento do passeio                                                                  1.421832\n",
      "Estacionamento abusivo                                                                      1.397157\n",
      "Contentor de pequena capacidade (2 rodas) desaparecido                                      1.188391\n",
      "Remoção-RCD-Pedido de recolha                                                               1.167333\n",
      "Corte de ervas em passeios                                                                  1.106615\n",
      "Buraco na faixa de rodagem - Betuminoso                                                     1.098218\n",
      "Obras ilegais - Edificado, via pública e ruído                                              1.024065\n",
      "Falta de despejo do contentor de pequena capacidade (2 rodas) ou sacos (municipais)         1.011534\n",
      "Name: count, dtype: float64\n"
     ]
    }
   ],
   "source": [
    "# Group by 'tipo' and count occurences\n",
    "tipo_frequencia = gopidatasetbasemodel1['tipo'].value_counts()\n",
    "\n",
    "# Calculate total frequency\n",
    "total_ocorrencias = tipo_frequencia.sum()\n",
    "\n",
    "# Calculate the percentage for each type\n",
    "tipo_percentagem = (tipo_frequencia / total_ocorrencias) * 100\n",
    "\n",
    "# Show the top 20 'tipos'\n",
    "top_20_percentagem = tipo_percentagem.head(20)\n",
    "\n",
    "print(top_20_percentagem)"
   ]
  },
  {
   "cell_type": "code",
   "execution_count": 6,
   "id": "c540e287",
   "metadata": {
    "tags": []
   },
   "outputs": [
    {
     "name": "stdout",
     "output_type": "stream",
     "text": [
      "Antes da alteração: Index(['Buraco na faixa de rodagem - Betuminoso', 'Candeeiro apagado',\n",
      "       'Contentor de pequena capacidade (2 rodas) desaparecido',\n",
      "       'Contentores de resíduos danificados', 'Corte de ervas em passeios',\n",
      "       'Descalcetamento do passeio',\n",
      "       'Entulhos, objetos volumosos, resíduos de jardim ou perigosos abandonados na via pública',\n",
      "       'Estacionamento abusivo',\n",
      "       'Falta de despejo do contentor de pequena capacidade (2 rodas) ou sacos (municipais)',\n",
      "       'Grafitis',\n",
      "       'Limpeza da via pública (Despejo de papeleira, varredura e lavagem da via pública)',\n",
      "       'Obras ilegais - Edificado, via pública e ruído', 'Pragas e doenças',\n",
      "       'Reclamações no âmbito da recolha diária de resíduos sólidos urbanos',\n",
      "       'Remoção Seletivas - Remoção pontual de papel/cartão',\n",
      "       'Remoção-Jardins-Pedido de recolha',\n",
      "       'Remoção-Monstros-Pedido de recolha', 'Remoção-RCD-Pedido de recolha',\n",
      "       'Sacos ou outros lixos abandonados',\n",
      "       'Árvores, arbustos ou relva - Manutenção'],\n",
      "      dtype='object', name='tipo')\n",
      "Depois da alteração: Index(['BNFDRB', 'CA', 'CDPC2RD', 'CDRD', 'CDEEP', 'DDP', 'EOVRDJOPANVP', 'EA',\n",
      "       'FDDDCDPC2ROSM', 'G', 'LDVPDDPVELDVP', 'OIEVPER', 'PED', 'RNADRDDRSU',\n",
      "       'RSRPDP', 'RJPDR', 'RMPDR', 'RRPDR', 'SOOLA', 'ÁAORM'],\n",
      "      dtype='object')\n",
      "  dt_registo    Subseccao          Freguesia  \\\n",
      "0 2018-01-01  11066202005  Parque das Nações   \n",
      "1 2018-01-01  11061802202             Lumiar   \n",
      "2 2018-01-01  11065602201            Arroios   \n",
      "\n",
      "                                                tipo  BNFDRB   CA  CDPC2RD  \\\n",
      "0                                  Candeeiro apagado     0.0  1.0      0.0   \n",
      "1            Árvores, arbustos ou relva - Manutenção     0.0  0.0      0.0   \n",
      "2  Entulhos, objetos volumosos, resíduos de jardi...     0.0  0.0      0.0   \n",
      "\n",
      "   CDRD  CDEEP  DDP  ...  LDVPDDPVELDVP  OIEVPER  PED  RNADRDDRSU  RSRPDP  \\\n",
      "0   0.0    0.0  0.0  ...            0.0      0.0  0.0         0.0     0.0   \n",
      "1   0.0    0.0  0.0  ...            0.0      0.0  0.0         0.0     0.0   \n",
      "2   0.0    0.0  0.0  ...            0.0      0.0  0.0         0.0     0.0   \n",
      "\n",
      "   RJPDR  RMPDR  RRPDR  SOOLA  ÁAORM  \n",
      "0    0.0    0.0    0.0    0.0    0.0  \n",
      "1    0.0    0.0    0.0    0.0    1.0  \n",
      "2    0.0    0.0    0.0    0.0    0.0  \n",
      "\n",
      "[3 rows x 24 columns]\n"
     ]
    }
   ],
   "source": [
    "# Formate dt_registo as datatype\n",
    "gopidatasetbasemodel1['dt_registo'] = pd.to_datetime(gopidatasetbasemodel1['dt_registo'], format='%Y-%m-%d')\n",
    "\n",
    "# Create the tipo_frequencia_diaria DataFrame with the occurrence count\n",
    "tipo_frequencia_diaria = gopidatasetbasemodel1.groupby(['dt_registo', 'Subseccao', 'Freguesia', 'tipo']).size().reset_index(name='counts')\n",
    "\n",
    "# Select the 20 most frequent 'tipos'\n",
    "top_20_tipos = tipo_frequencia_diaria.groupby('tipo')['counts'].sum().nlargest(20).index\n",
    "\n",
    "# Filter the data to only include the top 20 'tipos'\n",
    "tipo_frequencia_diaria = tipo_frequencia_diaria[tipo_frequencia_diaria['tipo'].isin(top_20_tipos)]\n",
    "\n",
    "# Create a pivot DataFrame with the most frequent types as columns\n",
    "pivot_df = tipo_frequencia_diaria.pivot_table(index=['dt_registo', 'Subseccao', 'Freguesia'], columns='tipo', values='counts', fill_value=0)\n",
    "\n",
    "# Check column names before changing\n",
    "print(\"Antes da alteração:\", pivot_df.columns)\n",
    "\n",
    "# Rename columns to initials\n",
    "def rename_to_initials(col):\n",
    "   # Substituir caracteres especiais por underscores\n",
    "    col = col.replace(' ', '_').replace('-', '_').replace(',', '_').replace('(', '_').replace(')', '_').replace('ó', 'o').replace('õ', 'o').replace('ã', 'a').replace('á', 'a').replace('ç', 'c').replace('í', 'i').replace('â', 'a').replace('é', 'e').replace('ú', 'u')\n",
    "    # Split the column name into words.\n",
    "    words = col.split('_')\n",
    "    # Get the first letter of each word and combine all the initials\n",
    "    initials = ''.join([word[0].upper() for word in words if word])\n",
    "    return initials\n",
    "\n",
    "pivot_df.columns = [rename_to_initials(col) for col in pivot_df.columns]\n",
    "\n",
    "# Check column names after change\n",
    "print(\"Depois da alteração:\", pivot_df.columns)\n",
    "\n",
    "# Merges with the original DataFrame, filling unmatched cells with zeros\n",
    "gopidataset_group = pd.merge(gopidatasetbasemodel1, pivot_df, on=['dt_registo', 'Freguesia', 'Subseccao'], how='left').fillna(0)\n",
    "\n",
    "# Check the result\n",
    "print(gopidataset_group.head(3))\n",
    "\n",
    "# Remove column 'tipo'\n",
    "gopidataset_group.drop(columns=['tipo'], inplace=True)"
   ]
  },
  {
   "cell_type": "code",
   "execution_count": 7,
   "id": "25246915",
   "metadata": {
    "tags": []
   },
   "outputs": [
    {
     "name": "stdout",
     "output_type": "stream",
     "text": [
      "Número de ocorrências em fins de semana: 77031\n",
      "Número de ocorrências em dias úteis: 697041\n"
     ]
    }
   ],
   "source": [
    "# Function to check if the day is a weekend\n",
    "def is_weekend(date):\n",
    "    return date.weekday() >= 5  # 5 = Sábado, 6 = Domingo\n",
    "\n",
    "gopidataset_group['Fim_de_Semana'] = gopidataset_group['dt_registo'].apply(is_weekend)\n",
    "\n",
    "# Count how many times Fim_de_Semana is True and False\n",
    "num_ocorrencias = gopidataset_group['Fim_de_Semana'].value_counts()\n",
    "\n",
    "# Extract the counts\n",
    "num_ocorrencias_fim_de_semana = num_ocorrencias[True] if True in num_ocorrencias else 0\n",
    "num_ocorrencias_dia_util = num_ocorrencias[False] if False in num_ocorrencias else 0\n",
    "\n",
    "print(f\"Número de ocorrências em fins de semana: {num_ocorrencias_fim_de_semana}\")\n",
    "print(f\"Número de ocorrências em dias úteis: {num_ocorrencias_dia_util}\")\n",
    "\n"
   ]
  },
  {
   "cell_type": "code",
   "execution_count": 8,
   "id": "f7de62de",
   "metadata": {
    "tags": []
   },
   "outputs": [
    {
     "data": {
      "text/html": [
       "<div>\n",
       "<style scoped>\n",
       "    .dataframe tbody tr th:only-of-type {\n",
       "        vertical-align: middle;\n",
       "    }\n",
       "\n",
       "    .dataframe tbody tr th {\n",
       "        vertical-align: top;\n",
       "    }\n",
       "\n",
       "    .dataframe thead th {\n",
       "        text-align: right;\n",
       "    }\n",
       "</style>\n",
       "<table border=\"1\" class=\"dataframe\">\n",
       "  <thead>\n",
       "    <tr style=\"text-align: right;\">\n",
       "      <th></th>\n",
       "      <th>dt_registo</th>\n",
       "      <th>Subseccao</th>\n",
       "      <th>Freguesia</th>\n",
       "      <th>BNFDRB</th>\n",
       "      <th>CA</th>\n",
       "      <th>CDPC2RD</th>\n",
       "      <th>CDRD</th>\n",
       "      <th>CDEEP</th>\n",
       "      <th>DDP</th>\n",
       "      <th>EOVRDJOPANVP</th>\n",
       "      <th>...</th>\n",
       "      <th>PED</th>\n",
       "      <th>RNADRDDRSU</th>\n",
       "      <th>RSRPDP</th>\n",
       "      <th>RJPDR</th>\n",
       "      <th>RMPDR</th>\n",
       "      <th>RRPDR</th>\n",
       "      <th>SOOLA</th>\n",
       "      <th>ÁAORM</th>\n",
       "      <th>Fim_de_Semana</th>\n",
       "      <th>Feriado</th>\n",
       "    </tr>\n",
       "  </thead>\n",
       "  <tbody>\n",
       "    <tr>\n",
       "      <th>0</th>\n",
       "      <td>2018-01-01</td>\n",
       "      <td>11066202005</td>\n",
       "      <td>Parque das Nações</td>\n",
       "      <td>0.0</td>\n",
       "      <td>1.0</td>\n",
       "      <td>0.0</td>\n",
       "      <td>0.0</td>\n",
       "      <td>0.0</td>\n",
       "      <td>0.0</td>\n",
       "      <td>0.0</td>\n",
       "      <td>...</td>\n",
       "      <td>0.0</td>\n",
       "      <td>0.0</td>\n",
       "      <td>0.0</td>\n",
       "      <td>0.0</td>\n",
       "      <td>0.0</td>\n",
       "      <td>0.0</td>\n",
       "      <td>0.0</td>\n",
       "      <td>0.0</td>\n",
       "      <td>False</td>\n",
       "      <td>True</td>\n",
       "    </tr>\n",
       "  </tbody>\n",
       "</table>\n",
       "<p>1 rows × 25 columns</p>\n",
       "</div>"
      ],
      "text/plain": [
       "  dt_registo    Subseccao          Freguesia  BNFDRB   CA  CDPC2RD  CDRD  \\\n",
       "0 2018-01-01  11066202005  Parque das Nações     0.0  1.0      0.0   0.0   \n",
       "\n",
       "   CDEEP  DDP  EOVRDJOPANVP  ...  PED  RNADRDDRSU  RSRPDP  RJPDR  RMPDR  \\\n",
       "0    0.0  0.0           0.0  ...  0.0         0.0     0.0    0.0    0.0   \n",
       "\n",
       "   RRPDR  SOOLA  ÁAORM  Fim_de_Semana  Feriado  \n",
       "0    0.0    0.0    0.0          False     True  \n",
       "\n",
       "[1 rows x 25 columns]"
      ]
     },
     "execution_count": 8,
     "metadata": {},
     "output_type": "execute_result"
    }
   ],
   "source": [
    "#Inser column with Portugal holidays    \n",
    "portugal_holidays = holidays.Portugal(years=range(2018, 2024))  \n",
    "\n",
    "# Function to check if the date is a holiday\n",
    "def is_holiday(date):\n",
    "    return date in portugal_holidays\n",
    "\n",
    "# Apply the function to create the 'Feriado' column\n",
    "gopidataset_group['Feriado'] = gopidataset_group['dt_registo'].apply(is_holiday)\n",
    "gopidataset_group.head(1)"
   ]
  },
  {
   "cell_type": "code",
   "execution_count": 9,
   "id": "277f728c",
   "metadata": {
    "tags": []
   },
   "outputs": [],
   "source": [
    "# Season function:\n",
    "def get_season(date):\n",
    "    year = date.year\n",
    "    seasons = {'primavera': pd.date_range(start=f'{year}-03-01', end=f'{year}-05-31'),\n",
    "               'verao': pd.date_range(start=f'{year}-06-01', end=f'{year}-08-31'),\n",
    "               'outono': pd.date_range(start=f'{year}-09-01', end=f'{year}-11-30')}\n",
    "    if date in seasons['primavera']:\n",
    "        return 'Primavera'\n",
    "    elif date in seasons['verao']:\n",
    "        return 'Verao'\n",
    "    elif date in seasons['outono']:\n",
    "        return 'Outono'\n",
    "    else:\n",
    "        return 'Inverno'\n",
    "\n",
    "# Apply function to create 'Estação' column\n",
    "gopidataset_group['Estacao'] = gopidataset_group['dt_registo'].apply(get_season)\n",
    "\n",
    "\n",
    "# Transform the Season column into several \"Primavera, Verao, Outono, Inverno\"\n",
    "gopidataset_group['Inverno'] = gopidataset_group['Estacao'] == 'Inverno'\n",
    "gopidataset_group['Primavera'] = gopidataset_group['Estacao'] == 'Primavera'\n",
    "gopidataset_group['Verao'] = gopidataset_group['Estacao'] == 'Verão'\n",
    "gopidataset_group['Outono'] = gopidataset_group['Estacao'] == 'Outono'\n",
    "\n",
    "\n",
    "gopidataset_group.head(1)\n",
    "gopidataset_group=gopidataset_group.drop(columns=['Estacao'])"
   ]
  },
  {
   "cell_type": "code",
   "execution_count": 10,
   "id": "923d2f7c",
   "metadata": {
    "tags": []
   },
   "outputs": [],
   "source": [
    "# Create new data model - With subsection level indexing granularity\n",
    "\n",
    "gopidataset_group.to_csv(manipulated_data_directory / 'gopidatasetmodel1_granularidade_subseccao.csv',sep=',', index=False)"
   ]
  },
  {
   "cell_type": "code",
   "execution_count": 11,
   "id": "1f58581d",
   "metadata": {
    "tags": []
   },
   "outputs": [
    {
     "name": "stdout",
     "output_type": "stream",
     "text": [
      "Número de linhas: 774072\n"
     ]
    }
   ],
   "source": [
    "###################################################### FP-Growth ###########################################################\n",
    "df = pd.read_csv(manipulated_data_directory / 'gopidatasetmodel1_granularidade_subseccao.csv')\n",
    "df.head(2)\n",
    "\n",
    "\n",
    "# Number of lines\n",
    "num_linhas = len(df)\n",
    "print(f\"Número de linhas: {num_linhas}\")\n"
   ]
  },
  {
   "cell_type": "code",
   "execution_count": 12,
   "id": "420d768e",
   "metadata": {
    "tags": []
   },
   "outputs": [
    {
     "data": {
      "text/html": [
       "<div>\n",
       "<style scoped>\n",
       "    .dataframe tbody tr th:only-of-type {\n",
       "        vertical-align: middle;\n",
       "    }\n",
       "\n",
       "    .dataframe tbody tr th {\n",
       "        vertical-align: top;\n",
       "    }\n",
       "\n",
       "    .dataframe thead th {\n",
       "        text-align: right;\n",
       "    }\n",
       "</style>\n",
       "<table border=\"1\" class=\"dataframe\">\n",
       "  <thead>\n",
       "    <tr style=\"text-align: right;\">\n",
       "      <th></th>\n",
       "      <th>dt_registo</th>\n",
       "      <th>Subseccao</th>\n",
       "      <th>Freguesia</th>\n",
       "      <th>BNFDRB</th>\n",
       "      <th>CA</th>\n",
       "      <th>CDPC2RD</th>\n",
       "      <th>CDRD</th>\n",
       "      <th>CDEEP</th>\n",
       "      <th>DDP</th>\n",
       "      <th>EOVRDJOPANVP</th>\n",
       "      <th>...</th>\n",
       "      <th>RMPDR</th>\n",
       "      <th>RRPDR</th>\n",
       "      <th>SOOLA</th>\n",
       "      <th>ÁAORM</th>\n",
       "      <th>Fim_de_Semana</th>\n",
       "      <th>Feriado</th>\n",
       "      <th>Inverno</th>\n",
       "      <th>Primavera</th>\n",
       "      <th>Verao</th>\n",
       "      <th>Outono</th>\n",
       "    </tr>\n",
       "  </thead>\n",
       "  <tbody>\n",
       "    <tr>\n",
       "      <th>0</th>\n",
       "      <td>2018-01-01</td>\n",
       "      <td>11066202005</td>\n",
       "      <td>Parque das Nações</td>\n",
       "      <td>0.0</td>\n",
       "      <td>1.0</td>\n",
       "      <td>0.0</td>\n",
       "      <td>0.0</td>\n",
       "      <td>0.0</td>\n",
       "      <td>0.0</td>\n",
       "      <td>0.0</td>\n",
       "      <td>...</td>\n",
       "      <td>0.0</td>\n",
       "      <td>0.0</td>\n",
       "      <td>0.0</td>\n",
       "      <td>0.0</td>\n",
       "      <td>False</td>\n",
       "      <td>True</td>\n",
       "      <td>True</td>\n",
       "      <td>False</td>\n",
       "      <td>False</td>\n",
       "      <td>False</td>\n",
       "    </tr>\n",
       "    <tr>\n",
       "      <th>1</th>\n",
       "      <td>2018-01-01</td>\n",
       "      <td>11061802202</td>\n",
       "      <td>Lumiar</td>\n",
       "      <td>0.0</td>\n",
       "      <td>0.0</td>\n",
       "      <td>0.0</td>\n",
       "      <td>0.0</td>\n",
       "      <td>0.0</td>\n",
       "      <td>0.0</td>\n",
       "      <td>0.0</td>\n",
       "      <td>...</td>\n",
       "      <td>0.0</td>\n",
       "      <td>0.0</td>\n",
       "      <td>0.0</td>\n",
       "      <td>1.0</td>\n",
       "      <td>False</td>\n",
       "      <td>True</td>\n",
       "      <td>True</td>\n",
       "      <td>False</td>\n",
       "      <td>False</td>\n",
       "      <td>False</td>\n",
       "    </tr>\n",
       "  </tbody>\n",
       "</table>\n",
       "<p>2 rows × 29 columns</p>\n",
       "</div>"
      ],
      "text/plain": [
       "   dt_registo    Subseccao          Freguesia  BNFDRB   CA  CDPC2RD  CDRD  \\\n",
       "0  2018-01-01  11066202005  Parque das Nações     0.0  1.0      0.0   0.0   \n",
       "1  2018-01-01  11061802202             Lumiar     0.0  0.0      0.0   0.0   \n",
       "\n",
       "   CDEEP  DDP  EOVRDJOPANVP  ...  RMPDR  RRPDR  SOOLA  ÁAORM  Fim_de_Semana  \\\n",
       "0    0.0  0.0           0.0  ...    0.0    0.0    0.0    0.0          False   \n",
       "1    0.0  0.0           0.0  ...    0.0    0.0    0.0    1.0          False   \n",
       "\n",
       "   Feriado  Inverno  Primavera  Verao  Outono  \n",
       "0     True     True      False  False   False  \n",
       "1     True     True      False  False   False  \n",
       "\n",
       "[2 rows x 29 columns]"
      ]
     },
     "execution_count": 12,
     "metadata": {},
     "output_type": "execute_result"
    }
   ],
   "source": [
    "df.head(2)"
   ]
  },
  {
   "cell_type": "code",
   "execution_count": 13,
   "id": "3bd5303e",
   "metadata": {
    "tags": []
   },
   "outputs": [
    {
     "name": "stdout",
     "output_type": "stream",
     "text": [
      "Itemsets frequentes:\n",
      "      support                    itemsets\n",
      "11  0.395760                     (RMPDR)\n",
      "24  0.274379                    (Outono)\n",
      "21  0.235547                 (Primavera)\n",
      "0   0.224566                   (Inverno)\n",
      "4   0.159906              (EOVRDJOPANVP)\n",
      "42  0.108783             (Outono, RMPDR)\n",
      "19  0.099514             (Fim_de_Semana)\n",
      "25  0.091771            (Inverno, RMPDR)\n",
      "41  0.090598          (Primavera, RMPDR)\n",
      "31  0.042787      (EOVRDJOPANVP, Outono)\n",
      "30  0.041177   (EOVRDJOPANVP, Primavera)\n",
      "14  0.038769                     (RJPDR)\n",
      "13  0.037119                       (PED)\n",
      "1   0.036565                        (CA)\n",
      "12  0.032691                (RNADRDDRSU)\n",
      "22  0.031284             (LDVPDDPVELDVP)\n",
      "28  0.030595     (EOVRDJOPANVP, Inverno)\n",
      "10  0.029110                         (G)\n",
      "40  0.027408     (Fim_de_Semana, Outono)\n",
      "3   0.026424                     (ÁAORM)\n",
      "29  0.025564       (EOVRDJOPANVP, RMPDR)\n",
      "23  0.023458                    (RSRPDP)\n",
      "39  0.022954  (Fim_de_Semana, Primavera)\n",
      "36  0.022635    (Fim_de_Semana, Inverno)\n",
      "5   0.022445                      (CDRD)\n"
     ]
    }
   ],
   "source": [
    "\n",
    "for col in df.select_dtypes(include='number').columns:\n",
    "           df[col] = df[col].astype(bool)\n",
    "        \n",
    "# Define columns for applying the Fp-Growth algorithm\n",
    "relevant_columns =['BNFDRB', 'CA', 'CDPC2RD', 'CDRD', 'CDEEP', 'DDP', 'EOVRDJOPANVP', 'EA',\n",
    "       'FDDDCDPC2ROSM', 'G', 'LDVPDDPVELDVP', 'OIEVPER', 'PED', 'RNADRDDRSU',\n",
    "       'RSRPDP', 'RJPDR', 'RMPDR', 'RRPDR', 'SOOLA', 'ÁAORM', 'Feriado', 'Fim_de_Semana', 'Inverno', 'Primavera', 'Verao', 'Outono']\n",
    "\n",
    "# Associate to a basket\n",
    "basket = df[relevant_columns]\n",
    "\n",
    "# Apply the FP-Growth algorithm with minimal support\n",
    "frequent_itemsets = fpgrowth(basket, min_support=0.01, use_colnames=True)\n",
    "frequent_itemsets = frequent_itemsets.sort_values(by='support', ascending=False)\n",
    "print(\"Itemsets frequentes:\\n\", frequent_itemsets.head(25))\n"
   ]
  },
  {
   "cell_type": "code",
   "execution_count": 14,
   "id": "744ab6b0",
   "metadata": {
    "tags": []
   },
   "outputs": [
    {
     "name": "stdout",
     "output_type": "stream",
     "text": [
      "dt_registo       object\n",
      "Subseccao          bool\n",
      "Freguesia        object\n",
      "BNFDRB             bool\n",
      "CA                 bool\n",
      "CDPC2RD            bool\n",
      "CDRD               bool\n",
      "CDEEP              bool\n",
      "DDP                bool\n",
      "EOVRDJOPANVP       bool\n",
      "EA                 bool\n",
      "FDDDCDPC2ROSM      bool\n",
      "G                  bool\n",
      "LDVPDDPVELDVP      bool\n",
      "OIEVPER            bool\n",
      "PED                bool\n",
      "RNADRDDRSU         bool\n",
      "RSRPDP             bool\n",
      "RJPDR              bool\n",
      "RMPDR              bool\n",
      "RRPDR              bool\n",
      "SOOLA              bool\n",
      "ÁAORM              bool\n",
      "Fim_de_Semana      bool\n",
      "Feriado            bool\n",
      "Inverno            bool\n",
      "Primavera          bool\n",
      "Verao              bool\n",
      "Outono             bool\n",
      "dtype: object\n"
     ]
    }
   ],
   "source": [
    "print(df.dtypes)"
   ]
  },
  {
   "cell_type": "code",
   "execution_count": 15,
   "id": "9a05d184",
   "metadata": {
    "tags": []
   },
   "outputs": [
    {
     "name": "stdout",
     "output_type": "stream",
     "text": [
      "Regras de associação:\n",
      "         antecedents      consequents  antecedent support  consequent support  \\\n",
      "31             (CA)        (Inverno)            0.036565            0.224566   \n",
      "30        (Inverno)             (CA)            0.224566            0.036565   \n",
      "27          (RJPDR)        (Inverno)            0.038769            0.224566   \n",
      "26        (Inverno)          (RJPDR)            0.224566            0.038769   \n",
      "20  (Fim_de_Semana)   (EOVRDJOPANVP)            0.099514            0.159906   \n",
      "21   (EOVRDJOPANVP)  (Fim_de_Semana)            0.159906            0.099514   \n",
      "34         (Outono)     (RNADRDDRSU)            0.274379            0.032691   \n",
      "35     (RNADRDDRSU)         (Outono)            0.032691            0.274379   \n",
      "29             (CA)         (Outono)            0.036565            0.274379   \n",
      "28         (Outono)             (CA)            0.274379            0.036565   \n",
      "8    (EOVRDJOPANVP)      (Primavera)            0.159906            0.235547   \n",
      "9       (Primavera)   (EOVRDJOPANVP)            0.235547            0.159906   \n",
      "2         (Inverno)          (RMPDR)            0.224566            0.395760   \n",
      "3           (RMPDR)        (Inverno)            0.395760            0.224566   \n",
      "32            (PED)         (Outono)            0.037119            0.274379   \n",
      "33         (Outono)            (PED)            0.274379            0.037119   \n",
      "18  (Fim_de_Semana)        (Inverno)            0.099514            0.224566   \n",
      "19        (Inverno)  (Fim_de_Semana)            0.224566            0.099514   \n",
      "12  (Fim_de_Semana)         (Outono)            0.099514            0.274379   \n",
      "13         (Outono)  (Fim_de_Semana)            0.274379            0.099514   \n",
      "0          (Outono)          (RMPDR)            0.274379            0.395760   \n",
      "1           (RMPDR)         (Outono)            0.395760            0.274379   \n",
      "16  (Fim_de_Semana)      (Primavera)            0.099514            0.235547   \n",
      "17      (Primavera)  (Fim_de_Semana)            0.235547            0.099514   \n",
      "7          (Outono)   (EOVRDJOPANVP)            0.274379            0.159906   \n",
      "6    (EOVRDJOPANVP)         (Outono)            0.159906            0.274379   \n",
      "4       (Primavera)          (RMPDR)            0.235547            0.395760   \n",
      "5           (RMPDR)      (Primavera)            0.395760            0.235547   \n",
      "10   (EOVRDJOPANVP)        (Inverno)            0.159906            0.224566   \n",
      "11        (Inverno)   (EOVRDJOPANVP)            0.224566            0.159906   \n",
      "24          (RJPDR)          (RMPDR)            0.038769            0.395760   \n",
      "25          (RMPDR)          (RJPDR)            0.395760            0.038769   \n",
      "14   (EOVRDJOPANVP)          (RMPDR)            0.159906            0.395760   \n",
      "15          (RMPDR)   (EOVRDJOPANVP)            0.395760            0.159906   \n",
      "22  (Fim_de_Semana)          (RMPDR)            0.099514            0.395760   \n",
      "23          (RMPDR)  (Fim_de_Semana)            0.395760            0.099514   \n",
      "\n",
      "     support  confidence      lift  leverage  conviction  zhangs_metric  \n",
      "31  0.011261    0.307978  1.371437  0.003050    1.120534       0.281117  \n",
      "30  0.011261    0.050147  1.371437  0.003050    1.014299       0.349272  \n",
      "27  0.011318    0.291936  1.300003  0.002612    1.095147       0.240079  \n",
      "26  0.011318    0.050400  1.300003  0.002612    1.012248       0.297602  \n",
      "20  0.019311    0.194052  1.213534  0.003398    1.042367       0.195406  \n",
      "21  0.019311    0.120764  1.213534  0.003398    1.024168       0.209453  \n",
      "34  0.010192    0.037144  1.136227  0.001222    1.004625       0.165229  \n",
      "35  0.010192    0.311757  1.136227  0.001222    1.054309       0.123946  \n",
      "29  0.011304    0.309144  1.126703  0.001271    1.050321       0.116723  \n",
      "28  0.011304    0.041198  1.126703  0.001271    1.004832       0.154977  \n",
      "8   0.041177    0.257507  1.093233  0.003512    1.029577       0.101515  \n",
      "9   0.041177    0.174815  1.093233  0.003512    1.018067       0.111560  \n",
      "2   0.091771    0.408658  1.032589  0.002896    1.021811       0.040701  \n",
      "3   0.091771    0.231884  1.032589  0.002896    1.009528       0.052232  \n",
      "32  0.010500    0.282880  1.030984  0.000316    1.011855       0.031212  \n",
      "33  0.010500    0.038269  1.030984  0.000316    1.001196       0.041417  \n",
      "18  0.022635    0.227454  1.012861  0.000287    1.003739       0.014101  \n",
      "19  0.022635    0.100794  1.012861  0.000287    1.001423       0.016375  \n",
      "12  0.027408    0.275422  1.003800  0.000104    1.001439       0.004204  \n",
      "13  0.027408    0.099892  1.003800  0.000104    1.000420       0.005217  \n",
      "0   0.108783    0.396471  1.001795  0.000195    1.001177       0.002469  \n",
      "1   0.108783    0.274871  1.001795  0.000195    1.000679       0.002965  \n",
      "16  0.022954    0.230660  0.979256 -0.000486    0.993649      -0.022984  \n",
      "17  0.022954    0.097450  0.979256 -0.000486    0.997713      -0.026963  \n",
      "7   0.042787    0.155940  0.975198 -0.001088    0.995301      -0.033863  \n",
      "6   0.042787    0.267574  0.975198 -0.001088    0.990709      -0.029384  \n",
      "4   0.090598    0.384627  0.971868 -0.002622    0.981908      -0.036484  \n",
      "5   0.090598    0.228920  0.971868 -0.002622    0.991406      -0.045715  \n",
      "10  0.030595    0.191333  0.852013 -0.005314    0.958904      -0.171329  \n",
      "11  0.030595    0.136242  0.852013 -0.005314    0.972603      -0.183001  \n",
      "24  0.012204    0.314795  0.795418 -0.003139    0.881838      -0.211091  \n",
      "25  0.012204    0.030838  0.795418 -0.003139    0.991816      -0.298570  \n",
      "14  0.025564    0.159866  0.403945 -0.037721    0.719218      -0.637214  \n",
      "15  0.025564    0.064593  0.403945 -0.037721    0.898105      -0.709475  \n",
      "22  0.013552    0.136179  0.344094 -0.025832    0.699496      -0.679162  \n",
      "23  0.013552    0.034242  0.344094 -0.025832    0.932414      -0.759307  \n"
     ]
    }
   ],
   "source": [
    "# Generate association rules with minimum support of 1%\n",
    "rules = association_rules(frequent_itemsets, metric='lift', min_threshold=0.01)\n",
    "rules = rules.sort_values(by=['lift', 'confidence'], ascending=[False, False])\n",
    "print(\"Regras de associação:\\n\", rules)"
   ]
  },
  {
   "cell_type": "code",
   "execution_count": 16,
   "id": "207af48e",
   "metadata": {
    "tags": []
   },
   "outputs": [
    {
     "name": "stdout",
     "output_type": "stream",
     "text": [
      "Regras de associação (Top 25):\n",
      "\n",
      "        antecedents      consequents   support  confidence      lift\n",
      "31             (CA)        (Inverno)  0.011261    0.307978  1.371437\n",
      "30        (Inverno)             (CA)  0.011261    0.050147  1.371437\n",
      "27          (RJPDR)        (Inverno)  0.011318    0.291936  1.300003\n",
      "26        (Inverno)          (RJPDR)  0.011318    0.050400  1.300003\n",
      "20  (Fim_de_Semana)   (EOVRDJOPANVP)  0.019311    0.194052  1.213534\n",
      "21   (EOVRDJOPANVP)  (Fim_de_Semana)  0.019311    0.120764  1.213534\n",
      "34         (Outono)     (RNADRDDRSU)  0.010192    0.037144  1.136227\n",
      "35     (RNADRDDRSU)         (Outono)  0.010192    0.311757  1.136227\n",
      "29             (CA)         (Outono)  0.011304    0.309144  1.126703\n",
      "28         (Outono)             (CA)  0.011304    0.041198  1.126703\n",
      "8    (EOVRDJOPANVP)      (Primavera)  0.041177    0.257507  1.093233\n",
      "9       (Primavera)   (EOVRDJOPANVP)  0.041177    0.174815  1.093233\n",
      "2         (Inverno)          (RMPDR)  0.091771    0.408658  1.032589\n",
      "3           (RMPDR)        (Inverno)  0.091771    0.231884  1.032589\n",
      "32            (PED)         (Outono)  0.010500    0.282880  1.030984\n",
      "33         (Outono)            (PED)  0.010500    0.038269  1.030984\n",
      "18  (Fim_de_Semana)        (Inverno)  0.022635    0.227454  1.012861\n",
      "19        (Inverno)  (Fim_de_Semana)  0.022635    0.100794  1.012861\n",
      "12  (Fim_de_Semana)         (Outono)  0.027408    0.275422  1.003800\n",
      "13         (Outono)  (Fim_de_Semana)  0.027408    0.099892  1.003800\n",
      "0          (Outono)          (RMPDR)  0.108783    0.396471  1.001795\n",
      "1           (RMPDR)         (Outono)  0.108783    0.274871  1.001795\n",
      "16  (Fim_de_Semana)      (Primavera)  0.022954    0.230660  0.979256\n",
      "17      (Primavera)  (Fim_de_Semana)  0.022954    0.097450  0.979256\n",
      "7          (Outono)   (EOVRDJOPANVP)  0.042787    0.155940  0.975198\n"
     ]
    }
   ],
   "source": [
    "# This code only serves to present the data in a shorter form in chapter 7 of the dissertation\n",
    "\n",
    "# Select main columns\n",
    "rules_selected = rules[['antecedents', 'consequents', 'support', 'confidence', 'lift']]\n",
    "\n",
    "\n",
    "# View the formatted table\n",
    "print(\"Regras de associação (Top 25):\\n\")\n",
    "print(rules_selected.head(25))"
   ]
  },
  {
   "cell_type": "code",
   "execution_count": 17,
   "id": "a7d1c527",
   "metadata": {
    "tags": []
   },
   "outputs": [
    {
     "name": "stdout",
     "output_type": "stream",
     "text": [
      "Regras que envolvem 'Fim_de_Semana':\n",
      "         antecedents      consequents  antecedent support  consequent support  \\\n",
      "20  (Fim_de_Semana)   (EOVRDJOPANVP)            0.099514            0.159906   \n",
      "21   (EOVRDJOPANVP)  (Fim_de_Semana)            0.159906            0.099514   \n",
      "18  (Fim_de_Semana)        (Inverno)            0.099514            0.224566   \n",
      "19        (Inverno)  (Fim_de_Semana)            0.224566            0.099514   \n",
      "12  (Fim_de_Semana)         (Outono)            0.099514            0.274379   \n",
      "13         (Outono)  (Fim_de_Semana)            0.274379            0.099514   \n",
      "16  (Fim_de_Semana)      (Primavera)            0.099514            0.235547   \n",
      "17      (Primavera)  (Fim_de_Semana)            0.235547            0.099514   \n",
      "22  (Fim_de_Semana)          (RMPDR)            0.099514            0.395760   \n",
      "23          (RMPDR)  (Fim_de_Semana)            0.395760            0.099514   \n",
      "\n",
      "     support  confidence      lift  leverage  conviction  zhangs_metric  \n",
      "20  0.019311    0.194052  1.213534  0.003398    1.042367       0.195406  \n",
      "21  0.019311    0.120764  1.213534  0.003398    1.024168       0.209453  \n",
      "18  0.022635    0.227454  1.012861  0.000287    1.003739       0.014101  \n",
      "19  0.022635    0.100794  1.012861  0.000287    1.001423       0.016375  \n",
      "12  0.027408    0.275422  1.003800  0.000104    1.001439       0.004204  \n",
      "13  0.027408    0.099892  1.003800  0.000104    1.000420       0.005217  \n",
      "16  0.022954    0.230660  0.979256 -0.000486    0.993649      -0.022984  \n",
      "17  0.022954    0.097450  0.979256 -0.000486    0.997713      -0.026963  \n",
      "22  0.013552    0.136179  0.344094 -0.025832    0.699496      -0.679162  \n",
      "23  0.013552    0.034242  0.344094 -0.025832    0.932414      -0.759307  \n"
     ]
    }
   ],
   "source": [
    "# Rules, filter = 'Fim_de_Semana'\n",
    "rules_weekend = rules[(rules['antecedents'].apply(lambda x: 'Fim_de_Semana' in str(x))) |\n",
    "                      (rules['consequents'].apply(lambda x: 'Fim_de_Semana' in str(x)))]\n",
    "\n",
    "print(\"Regras que envolvem 'Fim_de_Semana':\\n\", rules_weekend.head(20))"
   ]
  },
  {
   "cell_type": "code",
   "execution_count": 18,
   "id": "97fac1bf",
   "metadata": {
    "tags": []
   },
   "outputs": [
    {
     "name": "stdout",
     "output_type": "stream",
     "text": [
      "Regras que envolvem 'Fim_de_Semana:\n",
      "\n",
      "        antecedents      consequents   support  confidence      lift\n",
      "20  (Fim_de_Semana)   (EOVRDJOPANVP)  0.019311    0.194052  1.213534\n",
      "21   (EOVRDJOPANVP)  (Fim_de_Semana)  0.019311    0.120764  1.213534\n",
      "18  (Fim_de_Semana)        (Inverno)  0.022635    0.227454  1.012861\n",
      "19        (Inverno)  (Fim_de_Semana)  0.022635    0.100794  1.012861\n",
      "12  (Fim_de_Semana)         (Outono)  0.027408    0.275422  1.003800\n",
      "13         (Outono)  (Fim_de_Semana)  0.027408    0.099892  1.003800\n",
      "16  (Fim_de_Semana)      (Primavera)  0.022954    0.230660  0.979256\n",
      "17      (Primavera)  (Fim_de_Semana)  0.022954    0.097450  0.979256\n",
      "22  (Fim_de_Semana)          (RMPDR)  0.013552    0.136179  0.344094\n",
      "23          (RMPDR)  (Fim_de_Semana)  0.013552    0.034242  0.344094\n"
     ]
    }
   ],
   "source": [
    "# This code only serves to present the data in a shorter form in chapter 7 of the dissertation\n",
    "\n",
    "# Select main columns\n",
    "rules_selected = rules_weekend[['antecedents', 'consequents', 'support', 'confidence', 'lift']]\n",
    "\n",
    "\n",
    "# View the formatted table\n",
    "print(\"Regras que envolvem 'Fim_de_Semana:\\n\")\n",
    "print(rules_selected.head(25))"
   ]
  },
  {
   "cell_type": "code",
   "execution_count": 19,
   "id": "e374eef0",
   "metadata": {
    "tags": []
   },
   "outputs": [
    {
     "name": "stdout",
     "output_type": "stream",
     "text": [
      "Regras que envolvem as estações do ano:\n",
      "         antecedents      consequents  antecedent support  consequent support  \\\n",
      "31             (CA)        (Inverno)            0.036565            0.224566   \n",
      "30        (Inverno)             (CA)            0.224566            0.036565   \n",
      "27          (RJPDR)        (Inverno)            0.038769            0.224566   \n",
      "26        (Inverno)          (RJPDR)            0.224566            0.038769   \n",
      "34         (Outono)     (RNADRDDRSU)            0.274379            0.032691   \n",
      "35     (RNADRDDRSU)         (Outono)            0.032691            0.274379   \n",
      "29             (CA)         (Outono)            0.036565            0.274379   \n",
      "28         (Outono)             (CA)            0.274379            0.036565   \n",
      "8    (EOVRDJOPANVP)      (Primavera)            0.159906            0.235547   \n",
      "9       (Primavera)   (EOVRDJOPANVP)            0.235547            0.159906   \n",
      "2         (Inverno)          (RMPDR)            0.224566            0.395760   \n",
      "3           (RMPDR)        (Inverno)            0.395760            0.224566   \n",
      "32            (PED)         (Outono)            0.037119            0.274379   \n",
      "33         (Outono)            (PED)            0.274379            0.037119   \n",
      "18  (Fim_de_Semana)        (Inverno)            0.099514            0.224566   \n",
      "19        (Inverno)  (Fim_de_Semana)            0.224566            0.099514   \n",
      "12  (Fim_de_Semana)         (Outono)            0.099514            0.274379   \n",
      "13         (Outono)  (Fim_de_Semana)            0.274379            0.099514   \n",
      "0          (Outono)          (RMPDR)            0.274379            0.395760   \n",
      "1           (RMPDR)         (Outono)            0.395760            0.274379   \n",
      "16  (Fim_de_Semana)      (Primavera)            0.099514            0.235547   \n",
      "17      (Primavera)  (Fim_de_Semana)            0.235547            0.099514   \n",
      "7          (Outono)   (EOVRDJOPANVP)            0.274379            0.159906   \n",
      "6    (EOVRDJOPANVP)         (Outono)            0.159906            0.274379   \n",
      "4       (Primavera)          (RMPDR)            0.235547            0.395760   \n",
      "5           (RMPDR)      (Primavera)            0.395760            0.235547   \n",
      "10   (EOVRDJOPANVP)        (Inverno)            0.159906            0.224566   \n",
      "11        (Inverno)   (EOVRDJOPANVP)            0.224566            0.159906   \n",
      "\n",
      "     support  confidence      lift  leverage  conviction  zhangs_metric  \n",
      "31  0.011261    0.307978  1.371437  0.003050    1.120534       0.281117  \n",
      "30  0.011261    0.050147  1.371437  0.003050    1.014299       0.349272  \n",
      "27  0.011318    0.291936  1.300003  0.002612    1.095147       0.240079  \n",
      "26  0.011318    0.050400  1.300003  0.002612    1.012248       0.297602  \n",
      "34  0.010192    0.037144  1.136227  0.001222    1.004625       0.165229  \n",
      "35  0.010192    0.311757  1.136227  0.001222    1.054309       0.123946  \n",
      "29  0.011304    0.309144  1.126703  0.001271    1.050321       0.116723  \n",
      "28  0.011304    0.041198  1.126703  0.001271    1.004832       0.154977  \n",
      "8   0.041177    0.257507  1.093233  0.003512    1.029577       0.101515  \n",
      "9   0.041177    0.174815  1.093233  0.003512    1.018067       0.111560  \n",
      "2   0.091771    0.408658  1.032589  0.002896    1.021811       0.040701  \n",
      "3   0.091771    0.231884  1.032589  0.002896    1.009528       0.052232  \n",
      "32  0.010500    0.282880  1.030984  0.000316    1.011855       0.031212  \n",
      "33  0.010500    0.038269  1.030984  0.000316    1.001196       0.041417  \n",
      "18  0.022635    0.227454  1.012861  0.000287    1.003739       0.014101  \n",
      "19  0.022635    0.100794  1.012861  0.000287    1.001423       0.016375  \n",
      "12  0.027408    0.275422  1.003800  0.000104    1.001439       0.004204  \n",
      "13  0.027408    0.099892  1.003800  0.000104    1.000420       0.005217  \n",
      "0   0.108783    0.396471  1.001795  0.000195    1.001177       0.002469  \n",
      "1   0.108783    0.274871  1.001795  0.000195    1.000679       0.002965  \n",
      "16  0.022954    0.230660  0.979256 -0.000486    0.993649      -0.022984  \n",
      "17  0.022954    0.097450  0.979256 -0.000486    0.997713      -0.026963  \n",
      "7   0.042787    0.155940  0.975198 -0.001088    0.995301      -0.033863  \n",
      "6   0.042787    0.267574  0.975198 -0.001088    0.990709      -0.029384  \n",
      "4   0.090598    0.384627  0.971868 -0.002622    0.981908      -0.036484  \n",
      "5   0.090598    0.228920  0.971868 -0.002622    0.991406      -0.045715  \n",
      "10  0.030595    0.191333  0.852013 -0.005314    0.958904      -0.171329  \n",
      "11  0.030595    0.136242  0.852013 -0.005314    0.972603      -0.183001  \n"
     ]
    }
   ],
   "source": [
    "seasons = ['Inverno', 'Verao', 'Primavera', 'Outono']\n",
    "rules_seasons = rules[rules['antecedents'].apply(lambda x: any(season in str(x) for season in seasons)) |\n",
    "                      rules['consequents'].apply(lambda x: any(season in str(x) for season in seasons))]\n",
    "\n",
    "print(\"Regras que envolvem as estações do ano:\\n\", rules_seasons.head(30))\n"
   ]
  },
  {
   "cell_type": "code",
   "execution_count": 20,
   "id": "6e5ce33b",
   "metadata": {
    "tags": []
   },
   "outputs": [
    {
     "name": "stdout",
     "output_type": "stream",
     "text": [
      "Regras que envolvem as estações do ano:\n",
      "\n",
      "        antecedents      consequents   support  confidence      lift\n",
      "31             (CA)        (Inverno)  0.011261    0.307978  1.371437\n",
      "30        (Inverno)             (CA)  0.011261    0.050147  1.371437\n",
      "27          (RJPDR)        (Inverno)  0.011318    0.291936  1.300003\n",
      "26        (Inverno)          (RJPDR)  0.011318    0.050400  1.300003\n",
      "34         (Outono)     (RNADRDDRSU)  0.010192    0.037144  1.136227\n",
      "35     (RNADRDDRSU)         (Outono)  0.010192    0.311757  1.136227\n",
      "29             (CA)         (Outono)  0.011304    0.309144  1.126703\n",
      "28         (Outono)             (CA)  0.011304    0.041198  1.126703\n",
      "8    (EOVRDJOPANVP)      (Primavera)  0.041177    0.257507  1.093233\n",
      "9       (Primavera)   (EOVRDJOPANVP)  0.041177    0.174815  1.093233\n",
      "2         (Inverno)          (RMPDR)  0.091771    0.408658  1.032589\n",
      "3           (RMPDR)        (Inverno)  0.091771    0.231884  1.032589\n",
      "32            (PED)         (Outono)  0.010500    0.282880  1.030984\n",
      "33         (Outono)            (PED)  0.010500    0.038269  1.030984\n",
      "18  (Fim_de_Semana)        (Inverno)  0.022635    0.227454  1.012861\n",
      "19        (Inverno)  (Fim_de_Semana)  0.022635    0.100794  1.012861\n",
      "12  (Fim_de_Semana)         (Outono)  0.027408    0.275422  1.003800\n",
      "13         (Outono)  (Fim_de_Semana)  0.027408    0.099892  1.003800\n",
      "0          (Outono)          (RMPDR)  0.108783    0.396471  1.001795\n",
      "1           (RMPDR)         (Outono)  0.108783    0.274871  1.001795\n",
      "16  (Fim_de_Semana)      (Primavera)  0.022954    0.230660  0.979256\n",
      "17      (Primavera)  (Fim_de_Semana)  0.022954    0.097450  0.979256\n",
      "7          (Outono)   (EOVRDJOPANVP)  0.042787    0.155940  0.975198\n",
      "6    (EOVRDJOPANVP)         (Outono)  0.042787    0.267574  0.975198\n",
      "4       (Primavera)          (RMPDR)  0.090598    0.384627  0.971868\n"
     ]
    }
   ],
   "source": [
    "# This code only serves to present the data in a shorter form in chapter 7 of the dissertation\n",
    "\n",
    "# Select the main column\n",
    "rules_selected = rules_seasons[['antecedents', 'consequents', 'support', 'confidence', 'lift']]\n",
    "\n",
    "\n",
    "# View the formatted table\n",
    "print(\"Regras que envolvem as estações do ano:\\n\")\n",
    "print(rules_selected.head(25))"
   ]
  },
  {
   "cell_type": "code",
   "execution_count": 18,
   "id": "6483003c",
   "metadata": {},
   "outputs": [
    {
     "name": "stdout",
     "output_type": "stream",
     "text": [
      "Regras que envolvem 'Feriado':\n",
      " Empty DataFrame\n",
      "Columns: [antecedents, consequents, antecedent support, consequent support, support, confidence, lift, leverage, conviction, zhangs_metric]\n",
      "Index: []\n"
     ]
    }
   ],
   "source": [
    "# Rules, filter = 'Feriado'\n",
    "rules_feriado = rules[(rules['antecedents'].apply(lambda x: 'Feriado' in str(x))) |\n",
    "                      (rules['consequents'].apply(lambda x: 'Feriado' in str(x)))]\n",
    "\n",
    "print(\"Regras que envolvem 'Feriado':\\n\", rules_feriado.head(30))"
   ]
  },
  {
   "cell_type": "code",
   "execution_count": null,
   "id": "876a74eb",
   "metadata": {},
   "outputs": [],
   "source": []
  }
 ],
 "metadata": {
  "kernelspec": {
   "display_name": "Python 3 (ipykernel)",
   "language": "python",
   "name": "python3"
  },
  "language_info": {
   "codemirror_mode": {
    "name": "ipython",
    "version": 3
   },
   "file_extension": ".py",
   "mimetype": "text/x-python",
   "name": "python",
   "nbconvert_exporter": "python",
   "pygments_lexer": "ipython3",
   "version": "3.11.5"
  }
 },
 "nbformat": 4,
 "nbformat_minor": 5
}

{
 "cells": [
  {
   "cell_type": "code",
   "execution_count": 2,
   "id": "d2bc4ffc",
   "metadata": {},
   "outputs": [],
   "source": [
    "import pandas as pd\n",
    "import numpy as np\n",
    "from pathlib import Path"
   ]
  },
  {
   "cell_type": "code",
   "execution_count": 4,
   "id": "471756c5",
   "metadata": {},
   "outputs": [
    {
     "name": "stdout",
     "output_type": "stream",
     "text": [
      "estacion                                int64\n",
      "humidade                                int64\n",
      "iddireccvento                         float64\n",
      "intensidadeventokm                    float64\n",
      "precacumulada                         float64\n",
      "pressao                               float64\n",
      "radiacao                              float64\n",
      "temperatura                           float64\n",
      "fecha                                  object\n",
      "data_precacumulada_media_diaria        object\n",
      "media_precacumulada_horaria_diaria    float64\n",
      "dtype: object\n"
     ]
    }
   ],
   "source": [
    "base_dir = Path.home()\n",
    "manipulated_data_directory = base_dir / \"NaMinhaRua\" / \"Ficheiros de dados Manipulados\"\n",
    "ipma = pd.read_csv(manipulated_data_directory/ 'combined_columns_clear_ipma_data_24h.csv')\n",
    "ipma.head(2)\n",
    "print(ipma.dtypes)"
   ]
  },
  {
   "cell_type": "code",
   "execution_count": 6,
   "id": "7a6d6333",
   "metadata": {},
   "outputs": [
    {
     "name": "stdout",
     "output_type": "stream",
     "text": [
      "Coluna 'media_precacumulada_diaria' não encontrada no DataFrame.\n",
      "Coluna 'data_precacumulada_media_diaria' convertida para datetime.\n",
      "estacion                                       int64\n",
      "humidade                                       int64\n",
      "iddireccvento                                float64\n",
      "intensidadeventokm                           float64\n",
      "precacumulada                                float64\n",
      "pressao                                      float64\n",
      "radiacao                                     float64\n",
      "temperatura                                  float64\n",
      "fecha                                         object\n",
      "data_precacumulada_media_diaria       datetime64[ns]\n",
      "media_precacumulada_horaria_diaria           float64\n",
      "estacion_freguesia                            object\n",
      "dtype: object\n",
      "estacion                                       int64\n",
      "humidade                                       int64\n",
      "iddireccvento                                float64\n",
      "intensidadeventokm                           float64\n",
      "precacumulada                                float64\n",
      "pressao                                      float64\n",
      "radiacao                                     float64\n",
      "temperatura                                  float64\n",
      "fecha                                         object\n",
      "data_precacumulada_media_diaria       datetime64[ns]\n",
      "media_precacumulada_horaria_diaria           float64\n",
      "estacion_freguesia                            object\n",
      "dtype: object\n"
     ]
    }
   ],
   "source": [
    "coluna_para_converter_float = 'media_precacumulada_diaria'\n",
    "coluna_para_converter_data = 'data_precacumulada_media_diaria'\n",
    "\n",
    "# Convert to float\n",
    "if coluna_para_converter_float in ipma.columns:\n",
    "    # Converter a coluna para float32\n",
    "    ipma[coluna_para_converter_float] = ipma[coluna_para_converter_float].astype(np.float32)\n",
    "    print(f\"Coluna '{coluna_para_converter_float}' convertida para float32.\")\n",
    "else:\n",
    "    print(f\"Coluna '{coluna_para_converter_float}' não encontrada no DataFrame.\")\n",
    "\n",
    "if coluna_para_converter_data in ipma.columns:\n",
    "    # Convert to datetime\n",
    "    ipma[coluna_para_converter_data] = pd.to_datetime(ipma[coluna_para_converter_data], errors='coerce')\n",
    "    print(f\"Coluna '{coluna_para_converter_data}' convertida para datetime.\")\n",
    "else:\n",
    "    print(f\"Coluna '{coluna_para_converter_data}' não encontrada no DataFrame.\")\n",
    "\n",
    "# Verify the coversion\n",
    "print(ipma.dtypes)\n",
    "\n",
    "\n",
    "##########################ADD COORDINATES ACCORDING TO THE WEATHER STATION#############################################\n",
    "\n",
    "estacion_coords = {\n",
    "    535: (38,71907778, -9,14972222),\n",
    "    579: (38,76620278, -9,12749444),\n",
    "    762: (38,70956111, -9,18282500)\n",
    "}\n",
    "\n",
    "estacion_freguesia={\n",
    "    535: 'Santo António',\n",
    "    579: 'Olivais',\n",
    "    762: 'Alcântara'\n",
    "    \n",
    "}\n",
    "\n",
    "# Add a new column \"estacion_Freguesia\"\n",
    "#ipma['estacion coord'] = ipma['estacion'].map(estacion_coords)\n",
    "ipma['estacion_freguesia'] = ipma['estacion'].map(estacion_freguesia)\n",
    "\n",
    "\n",
    "print(ipma.dtypes)\n",
    "ipma.head(2)\n",
    "\n",
    "# Save the new data format\n",
    "ipma.to_csv(manipulated_data_directory/ 'combined_columns_clear_ipma_data_ready_to_be_merged_24h.csv',sep=',', index=False)"
   ]
  },
  {
   "cell_type": "code",
   "execution_count": 7,
   "id": "a307fe93",
   "metadata": {},
   "outputs": [],
   "source": [
    "ipma= pd.read_csv(manipulated_data_directory/ 'combined_columns_clear_ipma_data_ready_to_be_merged_24h.csv')"
   ]
  },
  {
   "cell_type": "code",
   "execution_count": 8,
   "id": "c60bdc56",
   "metadata": {},
   "outputs": [
    {
     "data": {
      "text/html": [
       "<div>\n",
       "<style scoped>\n",
       "    .dataframe tbody tr th:only-of-type {\n",
       "        vertical-align: middle;\n",
       "    }\n",
       "\n",
       "    .dataframe tbody tr th {\n",
       "        vertical-align: top;\n",
       "    }\n",
       "\n",
       "    .dataframe thead th {\n",
       "        text-align: right;\n",
       "    }\n",
       "</style>\n",
       "<table border=\"1\" class=\"dataframe\">\n",
       "  <thead>\n",
       "    <tr style=\"text-align: right;\">\n",
       "      <th></th>\n",
       "      <th>estacion</th>\n",
       "      <th>humidade</th>\n",
       "      <th>iddireccvento</th>\n",
       "      <th>intensidadeventokm</th>\n",
       "      <th>precacumulada</th>\n",
       "      <th>pressao</th>\n",
       "      <th>radiacao</th>\n",
       "      <th>temperatura</th>\n",
       "      <th>fecha</th>\n",
       "      <th>data_precacumulada_media_diaria</th>\n",
       "      <th>media_precacumulada_horaria_diaria</th>\n",
       "      <th>estacion_freguesia</th>\n",
       "    </tr>\n",
       "  </thead>\n",
       "  <tbody>\n",
       "    <tr>\n",
       "      <th>0</th>\n",
       "      <td>535</td>\n",
       "      <td>81</td>\n",
       "      <td>0.0</td>\n",
       "      <td>-99.0</td>\n",
       "      <td>0.0</td>\n",
       "      <td>1029.699951</td>\n",
       "      <td>-99.0</td>\n",
       "      <td>11.0</td>\n",
       "      <td>2018-12-23 12:00:00</td>\n",
       "      <td>2018-12-23</td>\n",
       "      <td>0.0</td>\n",
       "      <td>Santo António</td>\n",
       "    </tr>\n",
       "    <tr>\n",
       "      <th>1</th>\n",
       "      <td>535</td>\n",
       "      <td>90</td>\n",
       "      <td>0.0</td>\n",
       "      <td>-99.0</td>\n",
       "      <td>0.0</td>\n",
       "      <td>1031.699951</td>\n",
       "      <td>-99.0</td>\n",
       "      <td>10.0</td>\n",
       "      <td>2018-12-22 09:00:00</td>\n",
       "      <td>2018-12-22</td>\n",
       "      <td>0.0</td>\n",
       "      <td>Santo António</td>\n",
       "    </tr>\n",
       "  </tbody>\n",
       "</table>\n",
       "</div>"
      ],
      "text/plain": [
       "   estacion  humidade  iddireccvento  intensidadeventokm  precacumulada  \\\n",
       "0       535        81            0.0               -99.0            0.0   \n",
       "1       535        90            0.0               -99.0            0.0   \n",
       "\n",
       "       pressao  radiacao  temperatura                fecha  \\\n",
       "0  1029.699951     -99.0         11.0  2018-12-23 12:00:00   \n",
       "1  1031.699951     -99.0         10.0  2018-12-22 09:00:00   \n",
       "\n",
       "  data_precacumulada_media_diaria  media_precacumulada_horaria_diaria  \\\n",
       "0                      2018-12-23                                 0.0   \n",
       "1                      2018-12-22                                 0.0   \n",
       "\n",
       "  estacion_freguesia  \n",
       "0      Santo António  \n",
       "1      Santo António  "
      ]
     },
     "execution_count": 8,
     "metadata": {},
     "output_type": "execute_result"
    }
   ],
   "source": [
    "ipma.head(2)"
   ]
  },
  {
   "cell_type": "code",
   "execution_count": 7,
   "id": "5f82f239",
   "metadata": {},
   "outputs": [
    {
     "name": "stdout",
     "output_type": "stream",
     "text": [
      "Número de linhas: 1998167\n"
     ]
    }
   ],
   "source": [
    "num_linhas = ipma.shape[0]\n",
    "\n",
    "print(f\"Número de linhas: {num_linhas}\")"
   ]
  },
  {
   "cell_type": "code",
   "execution_count": 8,
   "id": "17ba51c5",
   "metadata": {},
   "outputs": [
    {
     "name": "stdout",
     "output_type": "stream",
     "text": [
      "        estacion  humidade  iddireccvento  intensidadeventokm  precacumulada  \\\n",
      "955914       762         0            NaN                 0.0            0.0   \n",
      "956013       579        86            5.0                27.0            0.0   \n",
      "816142       535         0            NaN                 0.0            0.0   \n",
      "\n",
      "            pressao  radiacao  temperatura                fecha  \\\n",
      "955914     0.000000       0.0          0.0  2021-02-20 00:00:00   \n",
      "956013  1011.599976       0.0         14.0  2021-02-20 00:00:00   \n",
      "816142     0.000000       0.0          0.0  2020-10-19 00:00:00   \n",
      "\n",
      "       data_precacumulada_media_diaria  media_precacumulada_diaria  \\\n",
      "955914                      2021-02-20                   44.958332   \n",
      "956013                      2021-02-20                   38.583332   \n",
      "816142                      2020-10-19                   48.416668   \n",
      "\n",
      "       estacion_freguesia  \n",
      "955914          Alcântara  \n",
      "956013            Olivais  \n",
      "816142      Santo António  \n"
     ]
    }
   ],
   "source": [
    "dias_maior_precip = ipma.loc[ipma.groupby('estacion_freguesia')['media_precacumulada_diaria'].idxmax()]\n",
    "\n",
    "print(dias_maior_precip)"
   ]
  },
  {
   "cell_type": "code",
   "execution_count": null,
   "id": "a25a6318",
   "metadata": {},
   "outputs": [],
   "source": []
  }
 ],
 "metadata": {
  "kernelspec": {
   "display_name": "Python 3 (ipykernel)",
   "language": "python",
   "name": "python3"
  },
  "language_info": {
   "codemirror_mode": {
    "name": "ipython",
    "version": 3
   },
   "file_extension": ".py",
   "mimetype": "text/x-python",
   "name": "python",
   "nbconvert_exporter": "python",
   "pygments_lexer": "ipython3",
   "version": "3.11.5"
  }
 },
 "nbformat": 4,
 "nbformat_minor": 5
}

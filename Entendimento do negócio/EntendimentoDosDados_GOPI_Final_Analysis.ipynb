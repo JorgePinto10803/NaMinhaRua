{
 "cells": [
  {
   "cell_type": "code",
   "execution_count": 3,
   "id": "55bce539",
   "metadata": {
    "tags": []
   },
   "outputs": [],
   "source": [
    "import numpy as np # linear algebra\n",
    "import pandas as pd # data processing, CSV file I/O (e.g. pd.read_csv)\n",
    "import matplotlib.pyplot as plt\n",
    "import pylab as pl\n",
    "import csv # csv module\n",
    "import warnings #for disable purpose\n",
    "import seaborn as sns #library for making statistical graphics\n",
    "import os # for current directory\n",
    "import glob\n",
    "from sklearn.tree import DecisionTreeClassifier #For predict decision trees\n",
    "from sklearn.model_selection import train_test_split, GridSearchCV #Split data\n",
    "from sklearn.ensemble import RandomForestClassifier#Random forests\n",
    "from sklearn import datasets #Random forests\n",
    "from sklearn.cluster import KMeans #Library for clusters\n",
    "from sklearn.preprocessing import MinMaxScaler#Used in clusters\n",
    "from scipy import stats#for correlation\n",
    "from sklearn.cluster import KMeans\n",
    "from sklearn.decomposition import PCA\n",
    "from pathlib import Path\n",
    "warnings.filterwarnings('ignore')\n",
    "from matplotlib.ticker import FuncFormatter"
   ]
  },
  {
   "cell_type": "code",
   "execution_count": 4,
   "id": "e034d837",
   "metadata": {
    "tags": []
   },
   "outputs": [
    {
     "name": "stdout",
     "output_type": "stream",
     "text": [
      "\n",
      "Missing values :   0\n",
      "0\n",
      "0\n"
     ]
    }
   ],
   "source": [
    "#Verify missing values on the data set\n",
    "base_dir = Path.home()\n",
    "csv_path = base_dir / \"NaMinhaRua\" / \"Ficheiros de dados Manipulados\"\n",
    "gopidataset = pd.read_csv(csv_path/ 'combined_sorted_ym.gopi_data.csv')\n",
    "gopidataset = pd.DataFrame(gopidataset)\n",
    "print (\"\\nMissing values :  \", gopidataset.isnull().sum().values.sum())\n",
    "nan_values_year = gopidataset['year'].isna().sum()  #gopidataset['year'].isnull()\n",
    "nan_values_month = gopidataset['month'].isna().sum()  #gopidataset['month'].isnull()\n",
    "\n",
    "# Print rows where 'month' column has NaN values\n",
    "print(nan_values_year)\n",
    "print(nan_values_month)"
   ]
  },
  {
   "cell_type": "code",
   "execution_count": 5,
   "id": "57d5ed40",
   "metadata": {
    "tags": []
   },
   "outputs": [
    {
     "name": "stdout",
     "output_type": "stream",
     "text": [
      "\n",
      "Data base dimensions : (774072, 9)\n",
      "\n",
      "Data base info:\n",
      "<class 'pandas.core.frame.DataFrame'>\n",
      "RangeIndex: 774072 entries, 0 to 774071\n",
      "Data columns (total 9 columns):\n",
      " #   Column               Non-Null Count   Dtype  \n",
      "---  ------               --------------   -----  \n",
      " 0   dt_registo           774072 non-null  object \n",
      " 1   area                 774072 non-null  object \n",
      " 2   tipo                 774072 non-null  object \n",
      " 3   Subseccao            774072 non-null  int64  \n",
      " 4   Freguesia            774072 non-null  object \n",
      " 5   Longitude_Subseccao  774072 non-null  float64\n",
      " 6   Latitude_Subseccao   774072 non-null  float64\n",
      " 7   month                774072 non-null  int64  \n",
      " 8   year                 774072 non-null  int64  \n",
      "dtypes: float64(2), int64(3), object(4)\n",
      "memory usage: 53.2+ MB\n"
     ]
    }
   ],
   "source": [
    "#RowsXColumns Info\n",
    "print(\"\\nData base dimensions :\", gopidataset.shape)\n",
    "print(\"\\nData base info:\")\n",
    "gopidataset.info()"
   ]
  },
  {
   "cell_type": "code",
   "execution_count": 6,
   "id": "4ce26176",
   "metadata": {
    "tags": []
   },
   "outputs": [
    {
     "data": {
      "text/html": [
       "<div>\n",
       "<style scoped>\n",
       "    .dataframe tbody tr th:only-of-type {\n",
       "        vertical-align: middle;\n",
       "    }\n",
       "\n",
       "    .dataframe tbody tr th {\n",
       "        vertical-align: top;\n",
       "    }\n",
       "\n",
       "    .dataframe thead th {\n",
       "        text-align: right;\n",
       "    }\n",
       "</style>\n",
       "<table border=\"1\" class=\"dataframe\">\n",
       "  <thead>\n",
       "    <tr style=\"text-align: right;\">\n",
       "      <th></th>\n",
       "      <th>dt_registo</th>\n",
       "      <th>area</th>\n",
       "      <th>tipo</th>\n",
       "      <th>Subseccao</th>\n",
       "      <th>Freguesia</th>\n",
       "      <th>Longitude_Subseccao</th>\n",
       "      <th>Latitude_Subseccao</th>\n",
       "      <th>month</th>\n",
       "      <th>year</th>\n",
       "    </tr>\n",
       "  </thead>\n",
       "  <tbody>\n",
       "    <tr>\n",
       "      <th>0</th>\n",
       "      <td>2018-01-01</td>\n",
       "      <td>Iluminação Pública</td>\n",
       "      <td>Candeeiro apagado</td>\n",
       "      <td>11066202005</td>\n",
       "      <td>Parque das Nações</td>\n",
       "      <td>-9.092716</td>\n",
       "      <td>38.779538</td>\n",
       "      <td>1</td>\n",
       "      <td>2018</td>\n",
       "    </tr>\n",
       "    <tr>\n",
       "      <th>1</th>\n",
       "      <td>2018-01-01</td>\n",
       "      <td>Árvores e Espaços Verdes</td>\n",
       "      <td>Árvores, arbustos ou relva - Manutenção</td>\n",
       "      <td>11061802202</td>\n",
       "      <td>Lumiar</td>\n",
       "      <td>-9.157347</td>\n",
       "      <td>38.772386</td>\n",
       "      <td>1</td>\n",
       "      <td>2018</td>\n",
       "    </tr>\n",
       "  </tbody>\n",
       "</table>\n",
       "</div>"
      ],
      "text/plain": [
       "   dt_registo                      area  \\\n",
       "0  2018-01-01        Iluminação Pública   \n",
       "1  2018-01-01  Árvores e Espaços Verdes   \n",
       "\n",
       "                                      tipo    Subseccao          Freguesia  \\\n",
       "0                        Candeeiro apagado  11066202005  Parque das Nações   \n",
       "1  Árvores, arbustos ou relva - Manutenção  11061802202             Lumiar   \n",
       "\n",
       "   Longitude_Subseccao  Latitude_Subseccao  month  year  \n",
       "0            -9.092716           38.779538      1  2018  \n",
       "1            -9.157347           38.772386      1  2018  "
      ]
     },
     "execution_count": 6,
     "metadata": {},
     "output_type": "execute_result"
    }
   ],
   "source": [
    "gopidataset.head(2)"
   ]
  },
  {
   "cell_type": "code",
   "execution_count": 7,
   "id": "a2d43d2d",
   "metadata": {
    "tags": []
   },
   "outputs": [
    {
     "data": {
      "image/png": "[encoded data removed]",
      "text/plain": [
       "<Figure size 1500x800 with 1 Axes>"
      ]
     },
     "metadata": {},
     "output_type": "display_data"
    }
   ],
   "source": [
    "##############################################Frequency/Year ################################################\n",
    "\n",
    "value_counts = gopidataset.year.value_counts()\n",
    "\n",
    "# Calculate %\n",
    "percentages = (value_counts  / len(gopidataset)) * 100\n",
    "\n",
    "\n",
    "# Create bar chart\n",
    "plt.figure(figsize=(15, 8))\n",
    "percentages.plot(kind='bar', color='grey')\n",
    "\n",
    "# Add title and labels\n",
    "plt.xlabel('year')\n",
    "plt.ylabel('Percentagem (%)')\n",
    "plt.title('Gráfico de Barras para o atributo (ano)')\n",
    "\n",
    "# Add % at the top of the bar\n",
    "for index, value in enumerate(percentages):\n",
    "    plt.text(index, value + 0.1, f'{value:.2f}%', ha='center')\n",
    "\n",
    "# Show plot\n",
    "plt.show()"
   ]
  },
  {
   "cell_type": "code",
   "execution_count": 9,
   "id": "a09980d1-da03-4b32-a735-7b3c4e592399",
   "metadata": {
    "tags": []
   },
   "outputs": [
    {
     "data": {
      "image/png": "[encoded data removed]",
      "text/plain": [
       "<Figure size 1000x600 with 1 Axes>"
      ]
     },
     "metadata": {},
     "output_type": "display_data"
    }
   ],
   "source": [
    "############################## Check the frequency of month on the respective year###################################\n",
    "# Calculate frequency of occurrences by year and month\n",
    "frequency = gopidataset.groupby(['year', 'month']).size().reset_index(name='count')\n",
    "\n",
    "# Group by year and calculate the total entries per year\n",
    "total_entries_per_year = gopidataset.groupby('year').size()\n",
    "\n",
    "# Calculate the percentage contribution of each month within its respective year\n",
    "frequency['percentage'] = frequency.apply(lambda row: 100 * row['count'] / total_entries_per_year[row['year']], axis=1)\n",
    "\n",
    "# Define a range of grey shades by year\n",
    "num_years = len(set(frequency['year']))\n",
    "colors = [plt.cm.gray(i / num_years) for i in range(num_years)]\n",
    "\n",
    "# Bar graph\n",
    "plt.figure(figsize=(10, 6))\n",
    "for i, year in enumerate(sorted(set(frequency['year']))):\n",
    "    # Filter data for the current year\n",
    "    year_data = frequency[frequency['year'] == year]\n",
    "    \n",
    "    # Plot the bars, x-values are months\n",
    "    plt.bar(year_data['month'], year_data['percentage'], label=str(year), color=colors[i])\n",
    "\n",
    "# Format Y axis with percentage\n",
    "formatter = FuncFormatter(lambda y, _: f'{y:.0f}%')\n",
    "plt.gca().yaxis.set_major_formatter(formatter)\n",
    "\n",
    "plt.xlabel('Mês')\n",
    "plt.ylabel('Percentagem de ocorrências mensal (%)')\n",
    "plt.title('Percentagem de ocorrências (Mês/Ano)')\n",
    "plt.xticks(range(1, 13), ['Jan', 'Fev', 'Mar', 'Abr', 'Mai', 'Jun', 'Jul', 'Ago', 'Set', 'Out', 'Nov', 'Dez'])  # X-axis labels for months\n",
    "plt.legend(title='Year')\n",
    "plt.show()"
   ]
  },
  {
   "cell_type": "code",
   "execution_count": 11,
   "id": "7c16d85a",
   "metadata": {
    "tags": []
   },
   "outputs": [
    {
     "name": "stdout",
     "output_type": "stream",
     "text": [
      "        2018 (%)  2019 (%)   2020 (%)   2021 (%)  2022 (%)  2023 (%)\n",
      "month                                                               \n",
      "1       7.696296  8.127320   8.813247   7.635692  7.417772  8.411889\n",
      "2       6.479118  7.641070   7.651027   7.863740  7.456800  6.555564\n",
      "3       6.891491  7.694326   5.748237  10.784314  7.711726  7.905262\n",
      "4       6.983218  7.547680   3.767249   8.840580  7.206856  6.859854\n",
      "5       8.313659  8.975556   7.692426   9.698068  9.333455  8.925574\n",
      "6       8.218741  7.987620   8.218338   8.974140  8.041386  8.420516\n",
      "7       9.381680  9.872417   9.626648   9.381927  9.650660  9.514548\n",
      "8       9.347382  8.155878   9.480221   7.445297  9.323491  8.365618\n",
      "9      10.496762  9.166197  11.611469   8.615374  9.421475  9.938044\n",
      "10     10.161759  8.967066  11.174486   7.392015  8.746377  9.800800\n",
      "11      8.690936  8.625148   8.512726   7.299659  7.918490  8.396988\n",
      "12      7.338959  7.239721   7.703925   6.069196  7.771513  6.905341\n"
     ]
    }
   ],
   "source": [
    "############################## Check the frequency of month on the respective year###################################\n",
    "\n",
    "# Calculate frequency of occurrences by year and month\n",
    "frequency = gopidataset.groupby(['year', 'month']).size().reset_index(name='count')\n",
    "\n",
    "# Group by year and calculate the total entries per year\n",
    "total_entries_per_year = gopidataset.groupby('year').size()\n",
    "\n",
    "# Calculate the percentage contribution of each month within its respective year\n",
    "frequency['percentage'] = frequency.apply(lambda row: 100 * row['count'] / total_entries_per_year[row['year']], axis=1)\n",
    "\n",
    "# Create a DataFrame to display the information\n",
    "table_data = []\n",
    "for year in sorted(set(frequency['year'])):\n",
    "    year_data = frequency[frequency['year'] == year][['month', 'percentage']].set_index('month')\n",
    "    year_data.columns = [f'{year} (%)']  # Rename column to include the year\n",
    "    table_data.append(year_data)\n",
    "\n",
    "# Concatenate the DataFrame for each year\n",
    "table = pd.concat(table_data, axis=1)\n",
    "\n",
    "# Display the table\n",
    "print(table)"
   ]
  },
  {
   "cell_type": "code",
   "execution_count": 13,
   "id": "86b37c31",
   "metadata": {
    "tags": []
   },
   "outputs": [
    {
     "name": "stdout",
     "output_type": "stream",
     "text": [
      "tipo\n",
      "Remoção-Monstros-Pedido de recolha                                                         46.544994\n",
      "Entulhos, objetos volumosos, resíduos de jardim ou perigosos abandonados na via pública    17.894621\n",
      "Remoção-Jardins-Pedido de recolha                                                           3.845018\n",
      "Pragas e doenças                                                                            3.804865\n",
      "Reclamações no âmbito da recolha diária de resíduos sólidos urbanos                         3.322482\n",
      "Grafitis                                                                                    3.080660\n",
      "Limpeza da via pública (Despejo de papeleira, varredura e lavagem da via pública)           2.878992\n",
      "Remoção Seletivas - Remoção pontual de papel/cartão                                         2.274528\n",
      "Contentores de resíduos danificados                                                         2.228792\n",
      "Sacos ou outros lixos abandonados                                                           2.080422\n",
      "Contentor de pequena capacidade (2 rodas) desaparecido                                      1.656379\n",
      "Remoção-RCD-Pedido de recolha                                                               1.627029\n",
      "Corte de ervas em passeios                                                                  1.542401\n",
      "Falta de despejo do contentor de pequena capacidade (2 rodas) ou sacos (municipais)         1.409876\n",
      "Resíduos em torno de ecoponto e vidrões                                                     1.343253\n",
      "Insalubridade em propriedades ou terrenos                                                   0.580516\n",
      "Contentor de pequena capacidade (2 rodas) danificado                                        0.525597\n",
      "Limpeza de dejetos caninos                                                                  0.444390\n",
      "Contentores na via pública fora do horário regulamentar                                     0.369125\n",
      "Devolução de contentor de pequena capacidade (2 rodas)                                      0.360482\n",
      "Limpeza da via pública                                                                      0.310605\n",
      "Arranjo de papeleiras                                                                       0.303222\n",
      "Contentor coletivo (4 rodas) danificado                                                     0.268651\n",
      "Contentor de pequena capacidade (2 rodas) abandonado na via                                 0.231918\n",
      "Alteração da periodicidade da recolha de ecoponto ou vidrão                                 0.231738\n",
      "Substituição ou reparação de ecoponto, vidrão ou ecoilha danificados                        0.178080\n",
      "Outras situações de sacos, pilhões, fitas ou papeleiras                                     0.171958\n",
      "Remoção-Seletivas-Remoção pontual de papel/cartão                                           0.111278\n",
      "Contentor coletivo (4 rodas) fora do local                                                  0.105696\n",
      "Lavagem de ecoponto ou vidrão                                                               0.082648\n",
      "Situações com contentores de grande capacidade ( 5000 L )                                   0.037093\n",
      "Limpeza em redor de ecoponto ou vidrão                                                      0.034572\n",
      "Deslocação de ecoponto ou vidrão                                                            0.027009\n",
      "Substituição ou reparação de papeleira danificada                                           0.011704\n",
      "Retirada de ecoponto ou vidrão                                                              0.011704\n",
      "Substituição ou reparação de papeleira queimada                                             0.010083\n",
      "Necessidade de limpeza da via pública devido a ocorrência imprevista                        0.008283\n",
      "Substituição de contentor coletivo (4 rodas) devido a incêndio                              0.006662\n",
      "Alteração do local de remoção de contentor de pequena capacidade (2 rodas)                  0.006662\n",
      "Fiscalização de dejetos caninos                                                             0.006122\n",
      "Limpeza da via pública devido a acidente de trânsito                                        0.005582\n",
      "Substituição de contentor de pequena capacidade (2 rodas) devido a incêndio                 0.005402\n",
      "Fornecimento de alimento a animais na via pública                                           0.004321\n",
      "Recolha de resíduos de árvores na via pública, decorrente de ação de emergência do RSB      0.003781\n",
      "Limpeza da via pública (Varredura e/ou lavagem)                                             0.002701\n",
      "Substituição de ecoponto ou vidrão devido a incêndio                                        0.001981\n",
      "Limpeza e remoção de grafítis em ecoponto ou vidrão                                         0.001440\n",
      "Contaminação dos resíduos depositados selectivamente                                        0.001260\n",
      "Boca de incêndio danificada devido à limpeza de arruamento                                  0.001260\n",
      "Postos de limpeza - Manutenção e/ou reparação                                               0.000720\n",
      "Agendamento de recolha de monos                                                             0.000540\n",
      "Substiruição de ecoponto ou vidrão devido a incêndio                                        0.000360\n",
      "Rotura e/ou desentupimento                                                                  0.000360\n",
      "Limpeza da via pública (Varredura, despejo de papeleira e/ou lavagem)                       0.000180\n",
      "Name: count, dtype: float64\n"
     ]
    }
   ],
   "source": [
    "# Filter the dataset for the area \"Higiene e segurança\"\n",
    "higiene_seguranca_data = gopidataset[gopidataset['area'] == 'Higiene Urbana']\n",
    "# Calculate total number of entries in the area\n",
    "total_entries = len(higiene_seguranca_data)\n",
    "\n",
    "# Get the frequency of the attribute \"tipo\"\n",
    "if total_entries > 0:\n",
    "    tipo_frequency = higiene_seguranca_data['tipo'].value_counts()  # Calculate frequency of 'tipo'\n",
    "# calculate %   \n",
    "tipo_percentage = (tipo_frequency / total_entries) * 100\n",
    "\n",
    "# Display the frequency\n",
    "print(tipo_percentage)"
   ]
  },
  {
   "cell_type": "code",
   "execution_count": 14,
   "id": "4aa15231",
   "metadata": {
    "tags": []
   },
   "outputs": [
    {
     "name": "stdout",
     "output_type": "stream",
     "text": [
      "Área: Iluminação Pública, Tipos Únicos: 14\n",
      "Área: Árvores e Espaços Verdes, Tipos Únicos: 28\n",
      "Área: Higiene Urbana, Tipos Únicos: 54\n",
      "Área: Passeios e Acessibilidades, Tipos Únicos: 45\n",
      "Área: Segurança Pública e Ruído, Tipos Únicos: 22\n",
      "Área: Estradas e Ciclovias, Tipos Únicos: 52\n",
      "Área: Estradas e Sinalização, Tipos Únicos: 64\n",
      "Área: Saneamento, Tipos Únicos: 18\n",
      "Área: Animais em ambiente urbano, Tipos Únicos: 14\n"
     ]
    }
   ],
   "source": [
    "tipos_por_area = {}\n",
    "\n",
    "# Iterate over the data and count the unique types by area\n",
    "for index, row in gopidataset.iterrows():\n",
    "    area = row[\"area\"]\n",
    "    tipo = row[\"tipo\"]\n",
    "    if area in tipos_por_area:\n",
    "        if tipo not in tipos_por_area[area]:\n",
    "            tipos_por_area[area].append(tipo)\n",
    "    else:\n",
    "        tipos_por_area[area] = [tipo]\n",
    "\n",
    "# Exibir o resultado\n",
    "for area, tipos in tipos_por_area.items():\n",
    "    print(f\"Área: {area}, Tipos Únicos: {len(tipos)}\")"
   ]
  },
  {
   "cell_type": "code",
   "execution_count": 15,
   "id": "9a9c37f9",
   "metadata": {
    "tags": []
   },
   "outputs": [
    {
     "name": "stdout",
     "output_type": "stream",
     "text": [
      "Tipos para a área 'Estradas e Sinalização':\n",
      "Sinalização vertical\n",
      "Novos sinais de trânsito e outra sinalização vertical\n",
      "Buraco na faixa de rodagem - Betuminoso\n",
      "Sinais de trânsito e outra sinalização vertical - Manutenção\n",
      "Reconstrução\n",
      "Semáforos e sinais luminosos em falta ou para manutenção\n",
      "Novos dispositivos complementares (Balizadores,...)\n",
      "Repavimentação\n",
      "Concessionárias - Danos e obras\n",
      "Buraco na faixa de rodagem - Cubos\n",
      "Reclamações no âmbito da gestão de trânsito\n",
      "Novas Passadeiras ou outras sinalizações horizontais\n",
      "Repintura de passadeiras ou outras sinalizações horizontais\n",
      "Viadutos, passagens superiores e inferiores - Estrutura\n",
      "Abatimentos superficiais\n",
      "Sinalização informativa e/ou turística\n",
      "Buraco envolvente à tampa de saneamento - Betuminoso\n",
      "Pilaretes\n",
      "Viadutos, passagens superiores e inferiores - Manutenção\n",
      "Dispositivos complementares (Balizadores,...) - Manutenção\n",
      "Cubos\n",
      "Sinalização horizontal\n",
      "Manutenção de Equipamento\n",
      "Separadores e proteções de faixa de rodagem\n",
      "Separadores e proteções de faixa de rodagem - Manutenção\n",
      "Caixas técnicas SLAT - Manutenção\n",
      "Construção de estacionamento\n",
      "Retirada definitiva de sinais de trânsito e outra sinalização vertical\n",
      "Lombas ou bandas sonoras - Manutenção\n",
      "Novos dispositivos complementares (Balizadores, Lombas,...)\n",
      "Recolha de patas de elefante\n",
      "Lancil\n",
      "Sarjetas\n",
      "Betuminoso\n",
      "Estabilização de obras de arte\n",
      "Grelhas de saneamento\n",
      "Sinais informativos em falta ou para manutenção\n",
      "Ciclovia - Manutenção\n",
      "Dispositivos complementares (Balizadores)\n",
      "Tampas de saneamento\n",
      "Abatimentos - Pesquisas urgentes\n",
      "Buracos em Betuminoso\n",
      "Irregularidades (lombas) - Betuminoso\n",
      "Recargas em Betuminoso\n",
      "Construção de estacionamento tarifado\n",
      "Requalificação\n",
      "Buraco na faixa de rodagem - Betão\n",
      "Fresagem de Betuminoso\n",
      "Carris - Equipamento informativo\n",
      "Lancil de segurança danificado ou em falta\n",
      "Viadutos, passagens superiores e inferiores\n",
      "Betão\n",
      "Sinais informativos luminosos - Manutenção\n",
      "Espelho parabólico\n",
      "Parqueamento de motas - Manutenção\n",
      "Estacionamento de motas - Construção\n",
      "Ciclovias - Construção\n",
      "Ciclovia - Construção\n",
      "Passadeira sobrelevada\n",
      "Parqueamento de motas - Construção\n",
      "Parqueamento de bicicletas - Manutenção\n",
      "Parqueamento de bicicletas - Construção\n",
      "Construção\n",
      "Pavimentação\n"
     ]
    }
   ],
   "source": [
    "# Função para imprimir tipos exclusivamente para uma área específica\n",
    "def imprimir_tipos_para_area(area_desejada):\n",
    "    tipos_para_area = gopidataset[gopidataset['area'] == area_desejada]['tipo'].unique()\n",
    "    print(f\"Tipos para a área '{area_desejada}':\")\n",
    "    for tipo in tipos_para_area:\n",
    "        print(tipo)\n",
    "\n",
    "# Exemplo de uso\n",
    "imprimir_tipos_para_area(\"Estradas e Sinalização\")"
   ]
  },
  {
   "cell_type": "code",
   "execution_count": null,
   "id": "1efac0ee",
   "metadata": {},
   "outputs": [],
   "source": []
  }
 ],
 "metadata": {
  "kernelspec": {
   "display_name": "Python 3 (ipykernel)",
   "language": "python",
   "name": "python3"
  },
  "language_info": {
   "codemirror_mode": {
    "name": "ipython",
    "version": 3
   },
   "file_extension": ".py",
   "mimetype": "text/x-python",
   "name": "python",
   "nbconvert_exporter": "python",
   "pygments_lexer": "ipython3",
   "version": "3.11.5"
  }
 },
 "nbformat": 4,
 "nbformat_minor": 5
}
